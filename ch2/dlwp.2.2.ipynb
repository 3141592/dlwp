{
 "cells": [
  {
   "cell_type": "code",
   "execution_count": 16,
   "id": "12abfec1",
   "metadata": {},
   "outputs": [
    {
     "name": "stdout",
     "output_type": "stream",
     "text": [
      "(60000, 28, 28)\n",
      "60000\n",
      "(10000, 28, 28)\n",
      "10000\n"
     ]
    }
   ],
   "source": [
    "# Loading the MNIST dataset in Keras\n",
    "from tensorflow.keras.datasets import mnist\n",
    "(train_images, train_labels), (test_images,test_labels) = mnist.load_data()\n",
    "\n",
    "print(train_images.shape)\n",
    "print(len(train_labels))\n",
    "\n",
    "print(test_images.shape)\n",
    "print(len(test_labels))"
   ]
  },
  {
   "cell_type": "code",
   "execution_count": 5,
   "id": "d4835f0a",
   "metadata": {},
   "outputs": [
    {
     "name": "stdout",
     "output_type": "stream",
     "text": [
      "12\n",
      "shape: ()\n",
      "ndim: 0\n"
     ]
    }
   ],
   "source": [
    "# 2.2.1 Scalars (rank-0 tensors)\n",
    "import numpy as np\n",
    "x = np.array(12)\n",
    "print(x)\n",
    "print(f\"shape: {x.shape}\")\n",
    "print(f\"ndim: {x.ndim}\")"
   ]
  },
  {
   "cell_type": "code",
   "execution_count": 6,
   "id": "74fb63e9",
   "metadata": {},
   "outputs": [
    {
     "name": "stdout",
     "output_type": "stream",
     "text": [
      "[12  3  6 14  7]\n",
      "shape: (5,)\n",
      "ndim: 1\n"
     ]
    }
   ],
   "source": [
    "# 2.2.2 Vectors (rank-1 tensors)\n",
    "import numpy as np\n",
    "x = np.array([12, 3, 6, 14, 7])\n",
    "print(x)\n",
    "print(f\"shape: {x.shape}\")\n",
    "print(f\"ndim: {x.ndim}\")"
   ]
  },
  {
   "cell_type": "code",
   "execution_count": 12,
   "id": "ab5828b2",
   "metadata": {},
   "outputs": [
    {
     "name": "stdout",
     "output_type": "stream",
     "text": [
      "[['12' '3' '6' '14' '7']\n",
      " ['13' '4' 'Bob' '14' '7']\n",
      " ['14' '5' '8' '14' '7']]\n",
      "dtype: <U21\n",
      "shape: (3, 5)\n",
      "ndim: 2\n"
     ]
    }
   ],
   "source": [
    "# 2.2.3 Matrices (rank-2 tensors)\n",
    "import numpy as np\n",
    "x = np.array([[12, 3, 6, 14, 7],\n",
    "            [13, 4, \"Bob\", 14, 7],\n",
    "            [14, 5, 8, 14, 7]])\n",
    "print(x)\n",
    "print(f\"dtype: {x.dtype}\")\n",
    "print(f\"shape: {x.shape}\")\n",
    "print(f\"ndim: {x.ndim}\")"
   ]
  },
  {
   "cell_type": "code",
   "execution_count": 14,
   "id": "0d37905d",
   "metadata": {},
   "outputs": [
    {
     "name": "stdout",
     "output_type": "stream",
     "text": [
      "[[[12  3  6 14  7]\n",
      "  [13  4  7 14  7]\n",
      "  [14  5  8 14  7]]\n",
      "\n",
      " [[12  3  6 14  7]\n",
      "  [13  4  7 14  7]\n",
      "  [14  5  8 14  7]]\n",
      "\n",
      " [[12  3  6 14  7]\n",
      "  [13  4  7 14  7]\n",
      "  [14  5  8 14  7]]\n",
      "\n",
      " [[12  3  6 14  7]\n",
      "  [13  4  7 14  7]\n",
      "  [14  5  8 14  7]]]\n",
      "dtype: int64\n",
      "shape: (4, 3, 5)\n",
      "ndim: 3\n"
     ]
    }
   ],
   "source": [
    "# 2.2.4 Rank-2 and higher-rank tensors\n",
    "import numpy as np\n",
    "x = np.array([[[12, 3, 6, 14, 7],\n",
    "            [13, 4, 7, 14, 7],\n",
    "            [14, 5, 8, 14, 7]],\n",
    "            [[12, 3, 6, 14, 7],\n",
    "            [13, 4, 7, 14, 7],\n",
    "            [14, 5, 8, 14, 7]],\n",
    "            [[12, 3, 6, 14, 7],\n",
    "            [13, 4, 7, 14, 7],\n",
    "            [14, 5, 8, 14, 7]],\n",
    "            [[12, 3, 6, 14, 7],\n",
    "            [13, 4, 7, 14, 7],\n",
    "            [14, 5, 8, 14, 7]]])\n",
    "print(x)\n",
    "print(f\"dtype: {x.dtype}\")\n",
    "print(f\"shape: {x.shape}\")\n",
    "print(f\"ndim: {x.ndim}\")"
   ]
  },
  {
   "cell_type": "code",
   "execution_count": 17,
   "id": "1a71c552",
   "metadata": {},
   "outputs": [
    {
     "data": {
      "image/png": "[encoded data removed]",
      "text/plain": [
       "<Figure size 432x288 with 1 Axes>"
      ]
     },
     "metadata": {
      "needs_background": "light"
     },
     "output_type": "display_data"
    }
   ],
   "source": [
    "# Listing 2.8 Dispaying the fourth digit\n",
    "import matplotlib.pyplot as plt\n",
    "digit = train_images[4]\n",
    "plt.imshow(digit)\n",
    "plt.show()"
   ]
  },
  {
   "cell_type": "code",
   "execution_count": 24,
   "id": "f773f122",
   "metadata": {},
   "outputs": [
    {
     "name": "stdout",
     "output_type": "stream",
     "text": [
      "shape: (90, 28, 28)\n",
      "shape: (90, 28, 28)\n",
      "shape: (90, 27, 20)\n",
      "shape: (90, 28, 28)\n",
      "shape: (28, 28)\n",
      "[[  0   0   0   0   0   0   0   0   0   0   0   0   0   0   0   0   0   0\n",
      "    0   0   0   0   0   0   0   0   0   0]\n",
      " [  0   0   0   0   0   0   0   0   0   0   0   0   0   0   0   0   0   0\n",
      "    0   0   0   0   0   0   0   0   0   0]\n",
      " [  0   0   0   0   0   0   0   0   0   0   0   0   0   0   0   0   0   0\n",
      "    0   0   0   0   0   0   0   0   0   0]\n",
      " [  0   0   0   0   0   0   0   0   0   0   0   0   0   0   0   0   0   0\n",
      "    0   0   0   0   0   0   0   0   0   0]\n",
      " [  0   0   0   0   0   0   0   0   0   0   0   0   0   0   0   0   0   0\n",
      "    0   0   0   0   0   0   0   0   0   0]\n",
      " [  0   0   0   0   0   0   0   0   0   0   0   0   3  18  18  18 126 136\n",
      "  175  26 166 255 247 127   0   0   0   0]\n",
      " [  0   0   0   0   0   0   0   0  30  36  94 154 170 253 253 253 253 253\n",
      "  225 172 253 242 195  64   0   0   0   0]\n",
      " [  0   0   0   0   0   0   0  49 238 253 253 253 253 253 253 253 253 251\n",
      "   93  82  82  56  39   0   0   0   0   0]\n",
      " [  0   0   0   0   0   0   0  18 219 253 253 253 253 253 198 182 247 241\n",
      "    0   0   0   0   0   0   0   0   0   0]\n",
      " [  0   0   0   0   0   0   0   0  80 156 107 253 253 205  11   0  43 154\n",
      "    0   0   0   0   0   0   0   0   0   0]\n",
      " [  0   0   0   0   0   0   0   0   0  14   1 154 253  90   0   0   0   0\n",
      "    0   0   0   0   0   0   0   0   0   0]\n",
      " [  0   0   0   0   0   0   0   0   0   0   0 139 253 190   2   0   0   0\n",
      "    0   0   0   0   0   0   0   0   0   0]\n",
      " [  0   0   0   0   0   0   0   0   0   0   0  11 190 253  70   0   0   0\n",
      "    0   0   0   0   0   0   0   0   0   0]\n",
      " [  0   0   0   0   0   0   0   0   0   0   0   0  35 241 225 160 108   1\n",
      "    0   0   0   0   0   0   0   0   0   0]\n",
      " [  0   0   0   0   0   0   0   0   0   0   0   0   0  81 240 253 253 119\n",
      "   25   0   0   0   0   0   0   0   0   0]\n",
      " [  0   0   0   0   0   0   0   0   0   0   0   0   0   0  45 186 253 253\n",
      "  150  27   0   0   0   0   0   0   0   0]\n",
      " [  0   0   0   0   0   0   0   0   0   0   0   0   0   0   0  16  93 252\n",
      "  253 187   0   0   0   0   0   0   0   0]\n",
      " [  0   0   0   0   0   0   0   0   0   0   0   0   0   0   0   0   0 249\n",
      "  253 249  64   0   0   0   0   0   0   0]\n",
      " [  0   0   0   0   0   0   0   0   0   0   0   0   0   0  46 130 183 253\n",
      "  253 207   2   0   0   0   0   0   0   0]\n",
      " [  0   0   0   0   0   0   0   0   0   0   0   0  39 148 229 253 253 253\n",
      "  250 182   0   0   0   0   0   0   0   0]\n",
      " [  0   0   0   0   0   0   0   0   0   0  24 114 221 253 253 253 253 201\n",
      "   78   0   0   0   0   0   0   0   0   0]\n",
      " [  0   0   0   0   0   0   0   0  23  66 213 253 253 253 253 198  81   2\n",
      "    0   0   0   0   0   0   0   0   0   0]\n",
      " [  0   0   0   0   0   0  18 171 219 253 253 253 253 195  80   9   0   0\n",
      "    0   0   0   0   0   0   0   0   0   0]\n",
      " [  0   0   0   0  55 172 226 253 253 253 253 244 133  11   0   0   0   0\n",
      "    0   0   0   0   0   0   0   0   0   0]\n",
      " [  0   0   0   0 136 253 253 253 212 135 132  16   0   0   0   0   0   0\n",
      "    0   0   0   0   0   0   0   0   0   0]\n",
      " [  0   0   0   0   0   0   0   0   0   0   0   0   0   0   0   0   0   0\n",
      "    0   0   0   0   0   0   0   0   0   0]\n",
      " [  0   0   0   0   0   0   0   0   0   0   0   0   0   0   0   0   0   0\n",
      "    0   0   0   0   0   0   0   0   0   0]\n",
      " [  0   0   0   0   0   0   0   0   0   0   0   0   0   0   0   0   0   0\n",
      "    0   0   0   0   0   0   0   0   0   0]]\n",
      "shape: (14, 14)\n",
      "[[ 49 238 253 253 253 253 253 253 253 253 251  93  82  82]\n",
      " [ 18 219 253 253 253 253 253 198 182 247 241   0   0   0]\n",
      " [  0  80 156 107 253 253 205  11   0  43 154   0   0   0]\n",
      " [  0   0  14   1 154 253  90   0   0   0   0   0   0   0]\n",
      " [  0   0   0   0 139 253 190   2   0   0   0   0   0   0]\n",
      " [  0   0   0   0  11 190 253  70   0   0   0   0   0   0]\n",
      " [  0   0   0   0   0  35 241 225 160 108   1   0   0   0]\n",
      " [  0   0   0   0   0   0  81 240 253 253 119  25   0   0]\n",
      " [  0   0   0   0   0   0   0  45 186 253 253 150  27   0]\n",
      " [  0   0   0   0   0   0   0   0  16  93 252 253 187   0]\n",
      " [  0   0   0   0   0   0   0   0   0   0 249 253 249  64]\n",
      " [  0   0   0   0   0   0   0  46 130 183 253 253 207   2]\n",
      " [  0   0   0   0   0  39 148 229 253 253 253 250 182   0]\n",
      " [  0   0   0  24 114 221 253 253 253 253 201  78   0   0]]\n"
     ]
    }
   ],
   "source": [
    "# 2.2.6 Manipulating tensors in numpy\n",
    "my_slice = train_images[10:100]\n",
    "print(f\"shape: {my_slice.shape}\")\n",
    "\n",
    "my_slice = train_images[10:100, :, :]\n",
    "print(f\"shape: {my_slice.shape}\")\n",
    "\n",
    "my_slice = train_images[10:100, 0:27, 0:20]\n",
    "print(f\"shape: {my_slice.shape}\")\n",
    "\n",
    "my_slice = train_images[10:100, 0:28, 0:28]\n",
    "print(f\"shape: {my_slice.shape}\")\n",
    "\n",
    "my_slice = train_images[0, 0:28, 0:28]\n",
    "print(f\"shape: {my_slice.shape}\")\n",
    "print(my_slice)\n",
    "\n",
    "my_slice = train_images[0, 7:-7, 7:-7]\n",
    "print(f\"shape: {my_slice.shape}\")\n",
    "print(my_slice)"
   ]
  },
  {
   "cell_type": "code",
   "execution_count": 29,
   "id": "587f4c79",
   "metadata": {},
   "outputs": [
    {
     "name": "stdout",
     "output_type": "stream",
     "text": [
      "[[['sample1-timestep1-f1' 'sample1-timestep1-f2' 'sample1-timestep1-f3'\n",
      "   '14' '7']\n",
      "  ['sample1-timestep2' '4' '7' '14' '7']\n",
      "  ['sample1-timestep3' '5' '8' '14' '7']]\n",
      "\n",
      " [['sample2-timestep1-f1' 'sample2-timestep1-f2' 'sample2-timestep1-f3'\n",
      "   '14' '7']\n",
      "  ['sample2-timestep2' '4' '7' '14' '7']\n",
      "  ['sample2-timestep3' '5' '8' '14' '7']]\n",
      "\n",
      " [['sample3-timestep1-f1' 'sample1-timestep3-f2' 'sample3-timestep1-f3'\n",
      "   '14' '7']\n",
      "  ['sample3-timestep2' '4' '7' '14' '7']\n",
      "  ['sample3-timestep3' '5' '8' '14' '7']]\n",
      "\n",
      " [['sample4-timestep1-f1' 'sample4-timestep1-f2' 'sample4-timestep1-f3'\n",
      "   '14' '7']\n",
      "  ['sample4-timestep2' '4' '7' '14' '7']\n",
      "  ['sample4-timestep3' '5' '8' '14' '7']]]\n",
      "dtype: <U20\n",
      "shape: (4, 3, 5)\n",
      "ndim: 3\n"
     ]
    }
   ],
   "source": [
    "# 2.2.8 Real-world examples of data tensors\n",
    "# Timeseries Rank-3\n",
    "import numpy as np\n",
    "x = np.array([[[\"sample1-timestep1-f1\", \"sample1-timestep1-f2\", \"sample1-timestep1-f3\", 14, 7],\n",
    "            [\"sample1-timestep2\", 4, 7, 14, 7],\n",
    "            [\"sample1-timestep3\", 5, 8, 14, 7]],\n",
    "            [[\"sample2-timestep1-f1\", \"sample2-timestep1-f2\", \"sample2-timestep1-f3\", 14, 7],\n",
    "            [\"sample2-timestep2\", 4, 7, 14, 7],\n",
    "            [\"sample2-timestep3\", 5, 8, 14, 7]],\n",
    "            [[\"sample3-timestep1-f1\", \"sample1-timestep3-f2\", \"sample3-timestep1-f3\", 14, 7],\n",
    "            [\"sample3-timestep2\", 4, 7, 14, 7],\n",
    "            [\"sample3-timestep3\", 5, 8, 14, 7]],\n",
    "            [[\"sample4-timestep1-f1\", \"sample4-timestep1-f2\", \"sample4-timestep1-f3\", 14, 7],\n",
    "            [\"sample4-timestep2\", 4, 7, 14, 7],\n",
    "            [\"sample4-timestep3\", 5, 8, 14, 7]]])\n",
    "print(x)\n",
    "print(f\"dtype: {x.dtype}\")\n",
    "print(f\"shape: {x.shape}\")\n",
    "print(f\"ndim: {x.ndim}\")"
   ]
  },
  {
   "cell_type": "code",
   "execution_count": null,
   "id": "56af04b0",
   "metadata": {},
   "outputs": [],
   "source": []
  }
 ],
 "metadata": {
  "kernelspec": {
   "display_name": "Python 3 (ipykernel)",
   "language": "python",
   "name": "python3"
  },
  "language_info": {
   "codemirror_mode": {
    "name": "ipython",
    "version": 3
   },
   "file_extension": ".py",
   "mimetype": "text/x-python",
   "name": "python",
   "nbconvert_exporter": "python",
   "pygments_lexer": "ipython3",
   "version": "3.9.7"
  }
 },
 "nbformat": 4,
 "nbformat_minor": 5
}
