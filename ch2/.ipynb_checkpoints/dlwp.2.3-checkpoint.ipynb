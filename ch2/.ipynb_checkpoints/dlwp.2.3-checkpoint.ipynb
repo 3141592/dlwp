{
 "cells": [
  {
   "cell_type": "code",
   "execution_count": 1,
   "id": "6e846493",
   "metadata": {},
   "outputs": [
    {
     "name": "stdout",
     "output_type": "stream",
     "text": [
      "[[0.87892295 0.53683016 0.22246832 0.66673891 0.32870203]\n",
      " [0.074184   0.59421757 0.76285377 0.70169652 0.37135569]\n",
      " [0.69135806 0.89422101 0.22418778 0.31500347 0.5326964 ]]\n",
      "X dtype: float64\n",
      "X shape: (3, 5)\n",
      "X ndim: 2\n",
      "[0.64771699 0.08536114 0.43379037 0.25642041 0.50436411]\n",
      "y dtype: float64\n",
      "y shape: (5,)\n",
      "y ndim: 1\n",
      "[[0.87892295 0.53683016 0.43379037 0.66673891 0.50436411]\n",
      " [0.64771699 0.59421757 0.76285377 0.70169652 0.50436411]\n",
      " [0.69135806 0.89422101 0.43379037 0.31500347 0.5326964 ]]\n",
      "z dtype: float64\n",
      "z shape: (3, 5)\n",
      "z ndim: 2\n",
      "[[0.64771699 0.08536114 0.22246832 0.25642041 0.32870203]\n",
      " [0.074184   0.08536114 0.43379037 0.25642041 0.37135569]\n",
      " [0.64771699 0.08536114 0.22418778 0.25642041 0.50436411]]\n",
      "[[1.52663994 0.6221913  0.65625869 0.92315932 0.83306614]\n",
      " [0.72190099 0.67957871 1.19664415 0.95811692 0.8757198 ]\n",
      " [1.33907506 0.97958214 0.65797816 0.57142388 1.03706051]]\n"
     ]
    }
   ],
   "source": [
    "# 2.3 The gears of neural networks: Tensor operations\n",
    "\n",
    "# 2.3.2 Broadcasting\n",
    "import numpy as np\n",
    "X = np.random.random((32,10))\n",
    "y = np.random.random(10,)\n",
    "\n",
    "X = np.random.random((3,5))\n",
    "y = np.random.random(5,)\n",
    "\n",
    "print(X)\n",
    "print(f\"X dtype: {X.dtype}\")\n",
    "print(f\"X shape: {X.shape}\")\n",
    "print(f\"X ndim: {X.ndim}\")\n",
    "\n",
    "print(y)\n",
    "print(f\"y dtype: {y.dtype}\")\n",
    "print(f\"y shape: {y.shape}\")\n",
    "print(f\"y ndim: {y.ndim}\")\n",
    "\n",
    "z = np.maximum(X, y)\n",
    "print(z)\n",
    "print(f\"z dtype: {z.dtype}\")\n",
    "print(f\"z shape: {z.shape}\")\n",
    "print(f\"z ndim: {z.ndim}\")\n",
    "\n",
    "z = np.minimum(X, y)\n",
    "print(z)\n",
    "\n",
    "z = X + y\n",
    "print(z)"
   ]
  },
  {
   "cell_type": "code",
   "execution_count": 15,
   "id": "ff83c4b1",
   "metadata": {},
   "outputs": [
    {
     "name": "stdout",
     "output_type": "stream",
     "text": [
      "X: [[0.2076221  0.15764964 0.70234013 0.12749642 0.66744432 0.8457862\n",
      "  0.64142851 0.11633344 0.32115349 0.79931712]\n",
      " [0.06743119 0.71789352 0.70593703 0.25653306 0.71320504 0.53289703\n",
      "  0.40347555 0.82586162 0.40554682 0.55030072]\n",
      " [0.80432917 0.98370528 0.57596948 0.22564359 0.30045974 0.33512161\n",
      "  0.23351884 0.20064327 0.69075277 0.46435573]\n",
      " [0.5255309  0.58517737 0.68546683 0.78245651 0.32257656 0.28268835\n",
      "  0.99782567 0.2902639  0.29841991 0.55452569]\n",
      " [0.29624302 0.65985178 0.13192757 0.94319319 0.66190229 0.40623924\n",
      "  0.38069158 0.25304734 0.96007696 0.6747482 ]]\n",
      "X dtype: float64\n",
      "X shape: (5, 10)\n",
      "X ndim: 2\n",
      "x: [0.3832814  0.65400177 0.86288162 0.11094893 0.52487849]\n",
      "x dtype: float64\n",
      "x shape: (5,)\n",
      "x ndim: 1\n",
      "y: [0.45291467 0.4869159  0.61707422 0.91271877 0.80945853]\n",
      "y dtype: float64\n",
      "y shape: (5,)\n",
      "y ndim: 1\n",
      "z: 1.5506321707967572\n",
      "z dtype: float64\n",
      "z shape: ()\n",
      "z ndim: 0\n",
      "z: [1.34265756 2.09619979 1.74967637 1.79953238 1.66517629 1.43618869\n",
      " 1.84995776 1.0483867  1.81868398 1.96882126]\n",
      "z: [1.34265756 2.09619979 1.74967637 1.79953238 1.66517629 1.43618869\n",
      " 1.84995776 1.0483867  1.81868398 1.96882126]\n",
      "z2: [1.34265756 2.09619979 1.74967637 1.79953238 1.66517629 1.43618869\n",
      " 1.84995776 1.0483867  1.81868398 1.96882126]\n"
     ]
    }
   ],
   "source": [
    "# 2.3.3 Tensor product\n",
    "import numpy as np\n",
    "X = np.random.random((5,10))\n",
    "x = np.random.random(5,)\n",
    "y = np.random.random(5,)\n",
    "\n",
    "print(f\"X: {X}\")\n",
    "print(f\"X dtype: {X.dtype}\")\n",
    "print(f\"X shape: {X.shape}\")\n",
    "print(f\"X ndim: {X.ndim}\")\n",
    "\n",
    "print(f\"x: {x}\")\n",
    "print(f\"x dtype: {x.dtype}\")\n",
    "print(f\"x shape: {x.shape}\")\n",
    "print(f\"x ndim: {x.ndim}\")\n",
    "\n",
    "print(f\"y: {y}\")\n",
    "print(f\"y dtype: {y.dtype}\")\n",
    "print(f\"y shape: {y.shape}\")\n",
    "print(f\"y ndim: {y.ndim}\")\n",
    "\n",
    "z = np.dot(x, y)\n",
    "print(f\"z: {z}\")\n",
    "print(f\"z dtype: {z.dtype}\")\n",
    "print(f\"z shape: {z.shape}\")\n",
    "print(f\"z ndim: {z.ndim}\")\n",
    "\n",
    "z = np.dot(y, X)\n",
    "print(f\"z: {z}\")\n",
    "z2 = np.dot(y, X)\n",
    "print(f\"z: {z}\")\n",
    "print(f\"z2: {z2}\")\n"
   ]
  },
  {
   "cell_type": "code",
   "execution_count": 23,
   "id": "a03545fa",
   "metadata": {},
   "outputs": [
    {
     "name": "stdout",
     "output_type": "stream",
     "text": [
      "x: [[0. 1.]\n",
      " [2. 3.]\n",
      " [4. 5.]]\n",
      "x dtype: float64\n",
      "x shape: (3, 2)\n",
      "x ndim: 2\n",
      "x: [[0. 1. 2.]\n",
      " [3. 4. 5.]]\n",
      "x dtype: float64\n",
      "x shape: (2, 3)\n",
      "x ndim: 2\n",
      "x: [[0. 3.]\n",
      " [1. 4.]\n",
      " [2. 5.]]\n",
      "x dtype: float64\n",
      "x shape: (3, 2)\n",
      "x ndim: 2\n"
     ]
    }
   ],
   "source": [
    "# 2.3.4 Tensor reshaping\n",
    "import numpy as np\n",
    "x = np.array([[0., 1.],\n",
    "             [2., 3.],\n",
    "             [4., 5.]])\n",
    "\n",
    "print(f\"x: {x}\")\n",
    "print(f\"x dtype: {x.dtype}\")\n",
    "print(f\"x shape: {x.shape}\")\n",
    "print(f\"x ndim: {x.ndim}\")\n",
    "\n",
    "x = x.reshape((2,3))\n",
    "print(f\"x: {x}\")\n",
    "print(f\"x dtype: {x.dtype}\")\n",
    "print(f\"x shape: {x.shape}\")\n",
    "print(f\"x ndim: {x.ndim}\")\n",
    "\n",
    "x = np.transpose(x)\n",
    "print(f\"x: {x}\")\n",
    "print(f\"x dtype: {x.dtype}\")\n",
    "print(f\"x shape: {x.shape}\")\n",
    "print(f\"x ndim: {x.ndim}\")"
   ]
  },
  {
   "cell_type": "code",
   "execution_count": 4,
   "id": "93ef28a5",
   "metadata": {},
   "outputs": [
    {
     "name": "stdout",
     "output_type": "stream",
     "text": [
      "[1.  1.5 2.5 3.5 4.5 5. ]\n"
     ]
    }
   ],
   "source": [
    "# numpy.gradient\n",
    "import numpy as np\n",
    "y = np.array([1, 2, 4, 7, 11, 16], dtype=np.float)\n",
    "j = np.gradient(y)\n",
    "print(j)"
   ]
  },
  {
   "cell_type": "code",
   "execution_count": 8,
   "id": "0e014bf9",
   "metadata": {},
   "outputs": [
    {
     "name": "stdout",
     "output_type": "stream",
     "text": [
      "Expression : x**2 + y**3 + 10*y \n",
      "Value of the derivative : 2*x \n"
     ]
    }
   ],
   "source": [
    "# Derivative\n",
    "import sympy \n",
    "from sympy import *\n",
    "\n",
    "x, y = symbols('x y') \n",
    "expr = x**2 + 10 * y + y**3\n",
    "print(\"Expression : {} \".format(expr)) \n",
    "\n",
    "# Use sympy.Derivative() method \n",
    "expr_diff = Derivative(expr, x) \n",
    "  \n",
    "#Print (\"Etymology of expression with respect to x: {}\".Format.(Expr_diff)\n",
    "print(\"Value of the derivative : {} \".format(expr_diff.doit())) "
   ]
  },
  {
   "cell_type": "code",
   "execution_count": null,
   "id": "532bbe13",
   "metadata": {},
   "outputs": [],
   "source": []
  },
  {
   "cell_type": "code",
   "execution_count": null,
   "id": "99f0feed",
   "metadata": {},
   "outputs": [],
   "source": []
  }
 ],
 "metadata": {
  "kernelspec": {
   "display_name": "Python 3 (ipykernel)",
   "language": "python",
   "name": "python3"
  },
  "language_info": {
   "codemirror_mode": {
    "name": "ipython",
    "version": 3
   },
   "file_extension": ".py",
   "mimetype": "text/x-python",
   "name": "python",
   "nbconvert_exporter": "python",
   "pygments_lexer": "ipython3",
   "version": "3.9.7"
  }
 },
 "nbformat": 4,
 "nbformat_minor": 5
}
